{
 "cells": [
  {
   "cell_type": "markdown",
   "metadata": {},
   "source": [
    "# Machine Learning - Assignment 2\n",
    "\n",
    "## Decision tree induction algorithm for classification tasks"
   ]
  },
  {
   "cell_type": "markdown",
   "metadata": {},
   "source": [
    "The aim of the assignment is to:\n",
    "\n",
    "* Implement a decision tree induction algorithm for classification tasks.\n",
    "* Make sure it works for real valued features and nominal features (categorical features without rank, e.g., red - blue - green).\n",
    "* Test the algorithm on 3 datasets.\n",
    "\n",
    "Follow the instructions and implement what is missing to complete the assignment. Some functions have been started to help you a little bit with the inputs or outputs of the function.\n",
    "\n",
    "**Note:** You might need to go back and forth during your implementation of the code. The structure is set up to make implementation easier, but how you return values from the different functions might vary, and you might find yourself going back and change something to make it easier later on."
   ]
  },
  {
   "cell_type": "markdown",
   "metadata": {},
   "source": [
    "## Assignment preparations"
   ]
  },
  {
   "cell_type": "markdown",
   "metadata": {},
   "source": [
    "We help you out with importing the libraries.\n",
    "\n",
    "**IMPORTANT NOTE:** You may not import any more libraries than the ones already imported!"
   ]
  },
  {
   "cell_type": "code",
   "execution_count": 1,
   "metadata": {},
   "outputs": [],
   "source": [
    "import numpy as np\n",
    "import pandas as pd\n",
    "import matplotlib.pyplot as plt"
   ]
  },
  {
   "cell_type": "markdown",
   "metadata": {},
   "source": [
    "## Decision tree model\n",
    "\n",
    "The main objective is to implement the decision tree model. The implemented decision tree needs to be recursive model, that is, it should be implemented general enough to call itself in order to grow. \"Growing\" a tree refers to the same thing as \"training\" a model.\n",
    "\n",
    "As said in the introduction, the structure is set up to help with implementation, but the nature of this model makes it a bit harder to implement function-by-function. You will most likely go back and forth between these first tasks."
   ]
  },
  {
   "cell_type": "markdown",
   "metadata": {},
   "source": [
    "### 1) Grow Tree\n",
    "\n",
    "We will start with the main function of the decision tree, the \"growing\" function. \n",
    "\n",
    "This function should be called when creating the model, but also from inside itself. It is responible for creating all the nodes and leafs in the tree."
   ]
  },
  {
   "cell_type": "code",
   "execution_count": 2,
   "metadata": {},
   "outputs": [],
   "source": [
    "def grow_tree(data, min_samples_split=2, max_depth=2, depth=0):\n",
    "    X, Y = data[:, :-1], data[:, -1]\n",
    "    n_samples, n_features = np.shape(X)\n",
    "\n",
    "    if (single_class_stop(Y) or max_depth_stop(max_depth, depth) or min_split_stop(Y, min_samples_split) or is_imbalanced_stop(Y)):\n",
    "        return {\"value\": max(set(Y), key=list(Y).count)}\n",
    "\n",
    "    gini_split = gini_impurity_split(data, n_features)\n",
    "\n",
    "    if gini_split[\"info_gain\"] > 0:\n",
    "        left_subtree = grow_tree(gini_split[\"dataset_left\"], min_samples_split, max_depth, depth + 1)\n",
    "        right_subtree = grow_tree(gini_split[\"dataset_right\"], min_samples_split, max_depth, depth + 1)\n",
    "\n",
    "        return {\n",
    "            \"feature_index\": gini_split[\"feature_index\"],\n",
    "            \"threshold\": gini_split[\"threshold\"],\n",
    "            \"left\": left_subtree,\n",
    "            \"right\": right_subtree,\n",
    "            \"info_gain\": gini_split[\"info_gain\"]\n",
    "        }\n",
    "\n",
    "    return {\"value\": max(set(Y), key=list(Y).count)}\n"
   ]
  },
  {
   "cell_type": "markdown",
   "metadata": {},
   "source": [
    "### 2) Growth stopping conditions (or stopping criterias)\n",
    "\n",
    "The \"grow_tree\" function needs some way of stop growing, otherwise it will grow indefinitely. We will adress this issue here.\n",
    "\n",
    "The trees stopping criterias needs to handle the following:\n",
    "\n",
    "1) When a node has only datapoints of a single class.\n",
    "\n",
    "2) Prevent the tree from growing to large, i.e., a max depth.\n",
    "\n",
    "3) Prevent the tree nodes from becoming to small.\n",
    "\n",
    "4) Prevent the tree from growing when the node is large (has a lot of datapoints) but it is very unbalanced. This is an extention to case 1.\n",
    "\n",
    "Can you think of some other stopping criterias that is good to have? "
   ]
  },
  {
   "cell_type": "code",
   "execution_count": 3,
   "metadata": {},
   "outputs": [],
   "source": [
    "def single_class_stop(features):\n",
    "    unique_features, counts = np.unique(features, return_counts=True)\n",
    "    if len(unique_features) == 1:\n",
    "        return True\n",
    "    return False\n",
    "\n",
    "def max_depth_stop(max_depth, depth):\n",
    "    if depth >= max_depth:\n",
    "        return True\n",
    "    return False\n",
    "\n",
    "def min_split_stop(features, min_samples_split):\n",
    "    if len(features) < min_samples_split:\n",
    "        return True\n",
    "    return False\n",
    "\n",
    "def is_imbalanced_stop(Y):\n",
    "    Y = Y.astype(int)\n",
    "    imbalance_threshold = 0.9\n",
    "    max_class_ratio = np.max(np.bincount(Y)) / len(Y)\n",
    "    if max_class_ratio >= imbalance_threshold:\n",
    "        return True\n",
    "    return False\n"
   ]
  },
  {
   "cell_type": "markdown",
   "metadata": {},
   "source": [
    "### 3) Best feature for splitting nodes\n",
    "\n",
    "When we are growing the tree, we need to decide how we are going to split a node into two new nodes. This is achived by looking at the features of the data in the node and calculate the best feature to split on.\n",
    "\n",
    "Here you have a choice:\n",
    "\n",
    "* Split using **Information Entropy**\n",
    "* Split using **Gini Impurity**\n",
    "\n",
    "Finish the function below using Information Entropy or Gini Impurity.\n",
    "\n",
    "**Note:** Your code should be able to handle both real and categorical features!"
   ]
  },
  {
   "cell_type": "code",
   "execution_count": 4,
   "metadata": {},
   "outputs": [],
   "source": [
    "# TODO: Change the name to which ever you chose.\n",
    "def gini_impurity_split(dataset, n_features):\n",
    "    gini_split = None\n",
    "    max_info_gain = -float(\"inf\")\n",
    "\n",
    "    for feature_index in range(n_features):\n",
    "\n",
    "        feature_values = dataset[:, feature_index]\n",
    "\n",
    "        is_numerical = np.issubdtype(feature_values.dtype, np.number)\n",
    "\n",
    "        if is_numerical:\n",
    "            possible_thresholds = [np.mean(feature_values)]\n",
    "        else:\n",
    "            possible_thresholds = np.unique(feature_values)\n",
    "\n",
    "        for threshold in possible_thresholds:\n",
    "            dataset_left, dataset_right = split_data(dataset, feature_index, threshold)\n",
    "            if len(dataset_left) > 0 and len(dataset_right) > 0:\n",
    "                parent = dataset[:, -1]\n",
    "                left_child = dataset_left[:, -1]\n",
    "                right_child = dataset_right[:, -1]\n",
    "\n",
    "                parent_gini = 1 - sum([(np.sum(parent == label) / len(parent)) ** 2 for label in np.unique(parent)])\n",
    "                left_gini = 1 - sum([(np.sum(left_child == label) / len(left_child)) ** 2 for label in np.unique(left_child)])\n",
    "                right_gini = 1 - sum([(np.sum(right_child == label) / len(right_child)) ** 2 for label in np.unique(right_child)])\n",
    "\n",
    "                weight_left = len(left_child) / len(parent)\n",
    "                weight_right = len(right_child) / len(parent)\n",
    "                weighted_gini = (weight_left * left_gini + weight_right * right_gini)\n",
    "\n",
    "                gain = parent_gini - weighted_gini\n",
    "                if gain > max_info_gain:\n",
    "                    gini_split = {\n",
    "                        \"feature_index\": feature_index,\n",
    "                        \"threshold\": threshold,\n",
    "                        \"dataset_left\": dataset_left,\n",
    "                        \"dataset_right\": dataset_right,\n",
    "                        \"info_gain\": gain\n",
    "                    }\n",
    "                    max_info_gain = gain\n",
    "\n",
    "    return gini_split"
   ]
  },
  {
   "cell_type": "markdown",
   "metadata": {},
   "source": [
    "### 4) Split data\n",
    "\n",
    "When growing the tree, we need to split the data multiple times, and what we decide to split varies a lot. It is similar to splitting data into train and test sets (remember from assignment 1), but we split the data based on the best feature for growing a good tree.\n",
    "\n",
    "**IMPORTANT NOTE:** To calculate binary splits for real-valued features, the following rule must be applied: an instance with a feature value lower than the mean feature value follows the left edge from the split node while all other instances follow the right edge from the split node."
   ]
  },
  {
   "cell_type": "code",
   "execution_count": 5,
   "metadata": {},
   "outputs": [],
   "source": [
    "def split_data(dataset, feature_index,threshold):\n",
    "    \n",
    "    feature_values = dataset[:, feature_index]\n",
    "    is_numerical = np.issubdtype(feature_values.dtype, np.number)\n",
    "\n",
    "    if is_numerical:\n",
    "        dataset_left = np.array([row for row in dataset if row[feature_index] <= threshold])\n",
    "        dataset_right = np.array([row for row in dataset if row[feature_index] > threshold])\n",
    "    else:\n",
    "        dataset_left = np.array([row for row in dataset if row[feature_index] == threshold])\n",
    "        dataset_right = np.array([row for row in dataset if row[feature_index] != threshold])\n",
    "\n",
    "    return dataset_left, dataset_right"
   ]
  },
  {
   "cell_type": "markdown",
   "metadata": {},
   "source": [
    "### 5) Predict with tree model\n",
    "\n",
    "Finally, when we have grown our tree, we would like to use it for prediction. When using the tree for prediction, we traverse the tree for each datapoint untill we land in a leaf node."
   ]
  },
  {
   "cell_type": "code",
   "execution_count": 6,
   "metadata": {},
   "outputs": [],
   "source": [
    "def predict_with_tree(X, tree):\n",
    "    predictions = []\n",
    "    \n",
    "    for x in X:\n",
    "        \n",
    "        current_node = tree\n",
    "        while current_node.get(\"value\") is None:\n",
    "            feature_val = x[current_node[\"feature_index\"]]\n",
    "\n",
    "            if feature_val <= current_node[\"threshold\"]:\n",
    "                current_node = current_node[\"left\"]\n",
    "\n",
    "            else:\n",
    "                current_node = current_node[\"right\"]\n",
    "        \n",
    "        predictions.append(current_node[\"value\"])\n",
    "    return predictions"
   ]
  },
  {
   "cell_type": "markdown",
   "metadata": {},
   "source": [
    "## Test decision tree model, compare with scikit learn, and plot dataset results\n",
    "\n",
    "In the last part of the lab, you are going to test your tree code and compare it to scikit learn. The goal is not to be better than an established library, but to give you an indication about if you are on the right track.\n",
    "\n",
    "You will need to plot the results from your model and the scikit learn model using matplotlib. We suggest a simple but informative bar-charts.\n",
    "\n",
    "To make the comparison fair, you should train and test both your decision tree algorithm and the scikit learn at least 5 times, and shuffle the data each time before splitting the data into a train and test set.\n",
    "\n",
    "The datasets are:\n",
    "\n",
    "* Wine - (https://archive.ics.uci.edu/dataset/109/wine)\n",
    "* Heart disease - (https://archive.ics.uci.edu/dataset/45/heart+disease)\n",
    "* Car - (https://archive.ics.uci.edu/dataset/19/car+evaluation)\n",
    "\n",
    "**IMPORTANT NOTE 1:** Take note of the feature types in the datasets, some features are numerical in value but are in fact categorical features. Be sure to handle these features correctly!\n",
    "\n",
    "**IMPORTANT NOTE 2:** In this assignment it helps to add an additional header with information about the features and if they are nominal (n) or real (r) features."
   ]
  },
  {
   "cell_type": "code",
   "execution_count": 7,
   "metadata": {},
   "outputs": [],
   "source": [
    "import matplotlib.pyplot as plt\n",
    "\n",
    "from sklearn.model_selection import train_test_split\n",
    "from sklearn.metrics import accuracy_score\n",
    "from sklearn.tree import DecisionTreeClassifier\n",
    "from sklearn.preprocessing import LabelEncoder"
   ]
  },
  {
   "cell_type": "markdown",
   "metadata": {},
   "source": [
    "You may use the \"**accuracy_score**\" function from scikit learn (imported above) to compare the performance of your own and scikit learns models.\n",
    "\n",
    "See below for an example use."
   ]
  },
  {
   "cell_type": "code",
   "execution_count": 8,
   "metadata": {},
   "outputs": [
    {
     "data": {
      "text/plain": [
       "0.6"
      ]
     },
     "execution_count": 8,
     "metadata": {},
     "output_type": "execute_result"
    }
   ],
   "source": [
    "y_true = [1,1,1,1,1] # Pretend labels\n",
    "y_pred = [1,1,2,2,1] # Pretend prediction\n",
    "\n",
    "accuracy_score(y_true, y_pred)"
   ]
  },
  {
   "cell_type": "markdown",
   "metadata": {},
   "source": [
    "### 6) Dataset 1: Wine"
   ]
  },
  {
   "cell_type": "code",
   "execution_count": 9,
   "metadata": {},
   "outputs": [
    {
     "name": "stdout",
     "output_type": "stream",
     "text": [
      "Wine Dataset Decision Tree\n",
      "\n",
      "Run 1:\n",
      "Custom Decision Tree : 0.886\n",
      "Scikit-Learn Decision Tree: 0.886\n",
      "\n",
      "Run 2:\n",
      "Custom Decision Tree : 0.886\n",
      "Scikit-Learn Decision Tree: 0.914\n",
      "\n",
      "Run 3:\n",
      "Custom Decision Tree : 0.943\n",
      "Scikit-Learn Decision Tree: 0.971\n",
      "\n",
      "Run 4:\n",
      "Custom Decision Tree : 0.914\n",
      "Scikit-Learn Decision Tree: 0.971\n",
      "\n",
      "Run 5:\n",
      "Custom Decision Tree : 0.943\n",
      "Scikit-Learn Decision Tree: 0.886\n",
      "\n",
      "Average Accuracy Results:\n",
      "Custom Decision Tree: 0.914\n",
      "Scikit-Learn Decision Tree: 0.926\n"
     ]
    },
    {
     "data": {
      "image/png": "[encoded data removed]",
      "text/plain": [
       "<Figure size 800x500 with 1 Axes>"
      ]
     },
     "metadata": {},
     "output_type": "display_data"
    }
   ],
   "source": [
    "data_wine = pd.read_csv(\"wine.csv\")\n",
    "data_wine=data_wine.drop(0)\n",
    "\n",
    "custom_tree_accuracies = []\n",
    "sklearn_tree_accuracies = []\n",
    "\n",
    "print(\"Wine Dataset Decision Tree\")\n",
    "\n",
    "for i in range(5):\n",
    "\n",
    "    data_wine = data_wine.sample(frac=1).reset_index(drop=True)\n",
    "    data_wine = data_wine.astype(float)\n",
    "    X = data_wine.iloc[:, :-1].values\n",
    "    Y = data_wine.iloc[:, -1].values.reshape(-1, 1)\n",
    "\n",
    "    split_size = int(0.2 * len(data_wine))\n",
    "\n",
    "    # Split into train and test sets\n",
    "    X_test, Y_test = X[:split_size], Y[:split_size]\n",
    "    X_train, Y_train = X[split_size:], Y[split_size:]\n",
    "\n",
    "\n",
    "    training_wine_data=np.concatenate((X_train, Y_train), axis=1)\n",
    "    \n",
    "    tree = grow_tree(training_wine_data, min_samples_split=3, max_depth=4)\n",
    "\n",
    "    Y_pred_custom = predict_with_tree(X_test, tree)\n",
    "\n",
    "\n",
    "    accuracy_custom = accuracy_score(Y_test, Y_pred_custom)\n",
    "    custom_tree_accuracies.append(accuracy_custom)\n",
    "\n",
    "    sk_tree = DecisionTreeClassifier(max_depth=4, min_samples_split=3)\n",
    "    sk_tree.fit(X_train, Y_train)\n",
    "    Y_pred_sk = sk_tree.predict(X_test)\n",
    "\n",
    "    accuracy_sk = accuracy_score(Y_test, Y_pred_sk)\n",
    "    sklearn_tree_accuracies.append(accuracy_sk)\n",
    "\n",
    "    print(f\"\\nRun {i+1}:\")\n",
    "    print(f\"Custom Decision Tree : {accuracy_custom:.3f}\")\n",
    "    print(f\"Scikit-Learn Decision Tree: {accuracy_sk:.3f}\")\n",
    "\n",
    "\n",
    "print(\"\\nAverage Accuracy Results:\")\n",
    "print(f\"Custom Decision Tree: {np.mean(custom_tree_accuracies):.3f}\")\n",
    "print(f\"Scikit-Learn Decision Tree: {np.mean(sklearn_tree_accuracies):.3f}\")\n",
    "\n",
    "x_labels = [f\"Run {i+1}\" for i in range(5)]\n",
    "x = np.arange(len(x_labels))\n",
    "width = 0.2\n",
    "\n",
    "plt.figure(figsize=(8, 5))\n",
    "plt.bar(x - width/2, custom_tree_accuracies, width, label=\"Custom Decision Tree\", color=\"orange\")\n",
    "plt.bar(x + width/2, sklearn_tree_accuracies, width, label=\"Scikit-Learn Decision Tree\", color=\"lightblue\")\n",
    "\n",
    "plt.xlabel(\"Run Number\")\n",
    "plt.ylabel(\"Accuracy\")\n",
    "plt.title(\"Comparison of Custom Decision Tree vs Scikit-Learn Across Runs\")\n",
    "plt.xticks(x, x_labels)\n",
    "plt.ylim(0, 1)\n",
    "plt.legend()\n",
    "\n",
    "plt.show()"
   ]
  },
  {
   "cell_type": "markdown",
   "metadata": {},
   "source": [
    "### 7) Dataset 2: Heart Disease"
   ]
  },
  {
   "cell_type": "code",
   "execution_count": 10,
   "metadata": {},
   "outputs": [
    {
     "name": "stdout",
     "output_type": "stream",
     "text": [
      "Heart Dataset Decision Tree\n",
      "\n",
      "Run 1:\n",
      "Custom Decision Tree : 0.814\n",
      "Scikit-Learn Decision Tree: 0.799\n",
      "\n",
      "Run 2:\n",
      "Custom Decision Tree : 0.819\n",
      "Scikit-Learn Decision Tree: 0.892\n",
      "\n",
      "Run 3:\n",
      "Custom Decision Tree : 0.887\n",
      "Scikit-Learn Decision Tree: 0.887\n",
      "\n",
      "Run 4:\n",
      "Custom Decision Tree : 0.828\n",
      "Scikit-Learn Decision Tree: 0.848\n",
      "\n",
      "Run 5:\n",
      "Custom Decision Tree : 0.853\n",
      "Scikit-Learn Decision Tree: 0.858\n",
      "\n",
      "Average Accuracy Results:\n",
      "Custom Decision Tree: 0.840\n",
      "Scikit-Learn Decision Tree: 0.857\n"
     ]
    },
    {
     "data": {
      "image/png": "[encoded data removed]",
      "text/plain": [
       "<Figure size 800x500 with 1 Axes>"
      ]
     },
     "metadata": {},
     "output_type": "display_data"
    }
   ],
   "source": [
    "data_heart = pd.read_csv(\"heart.csv\")\n",
    "data_heart=data_heart.drop(0)\n",
    "\n",
    "custom_tree_accuracies = []\n",
    "sklearn_tree_accuracies = []\n",
    "\n",
    "print(\"Heart Dataset Decision Tree\")\n",
    "\n",
    "for i in range(5):\n",
    "\n",
    "    data_heart = data_heart.sample(frac=1).reset_index(drop=True)\n",
    "\n",
    "    X = data_heart.iloc[:, :-1].values\n",
    "    Y = data_heart.iloc[:, -1].values.reshape(-1, 1)\n",
    "\n",
    "    split_size = int(0.2 * len(data_heart))\n",
    "\n",
    "    X_test, Y_test = X[:split_size], Y[:split_size]\n",
    "    X_train, Y_train = X[split_size:], Y[split_size:]\n",
    "\n",
    "\n",
    "    training_heart_data=np.concatenate((X_train, Y_train), axis=1)\n",
    "    tree = grow_tree(training_heart_data, min_samples_split=3, max_depth=4)\n",
    "\n",
    "    Y_pred_custom = predict_with_tree(X_test, tree)\n",
    "\n",
    "\n",
    "    accuracy_custom = accuracy_score(Y_test, Y_pred_custom)\n",
    "    custom_tree_accuracies.append(accuracy_custom)\n",
    "\n",
    "    sk_tree = DecisionTreeClassifier(max_depth=4, min_samples_split=3)\n",
    "    sk_tree.fit(X_train, Y_train)\n",
    "    Y_pred_sk = sk_tree.predict(X_test)\n",
    "\n",
    "    accuracy_sk = accuracy_score(Y_test, Y_pred_sk)\n",
    "    sklearn_tree_accuracies.append(accuracy_sk)\n",
    "\n",
    "    print(f\"\\nRun {i+1}:\")\n",
    "    print(f\"Custom Decision Tree : {accuracy_custom:.3f}\")\n",
    "    print(f\"Scikit-Learn Decision Tree: {accuracy_sk:.3f}\")\n",
    "\n",
    "print(\"\\nAverage Accuracy Results:\")\n",
    "print(f\"Custom Decision Tree: {np.mean(custom_tree_accuracies):.3f}\")\n",
    "print(f\"Scikit-Learn Decision Tree: {np.mean(sklearn_tree_accuracies):.3f}\")\n",
    "\n",
    "x_labels = [f\"Run {i+1}\" for i in range(5)]\n",
    "x = np.arange(len(x_labels))\n",
    "width = 0.2\n",
    "\n",
    "plt.figure(figsize=(8, 5))\n",
    "plt.bar(x - width/2, custom_tree_accuracies, width, label=\"Custom Decision Tree\", color=\"orange\")\n",
    "plt.bar(x + width/2, sklearn_tree_accuracies, width, label=\"Scikit-Learn Decision Tree\", color=\"lightblue\")\n",
    "\n",
    "plt.xlabel(\"Run Number\")\n",
    "plt.ylabel(\"Accuracy\")\n",
    "plt.title(\"Comparison of Custom Decision Tree vs Scikit-Learn Across Runs\")\n",
    "plt.xticks(x, x_labels)\n",
    "plt.ylim(0, 1)\n",
    "plt.legend()\n",
    "\n",
    "plt.show()\n",
    "\n"
   ]
  },
  {
   "cell_type": "markdown",
   "metadata": {},
   "source": [
    "### 8) Dataset 3: Car"
   ]
  },
  {
   "cell_type": "code",
   "execution_count": 11,
   "metadata": {},
   "outputs": [
    {
     "name": "stdout",
     "output_type": "stream",
     "text": [
      "Car Dataset Decision Tree\n",
      "\n",
      "Run 1:\n",
      "Custom Decision Tree : 0.806\n",
      "Scikit-Learn Decision Tree: 0.846\n",
      "\n",
      "Run 2:\n",
      "Custom Decision Tree : 0.791\n",
      "Scikit-Learn Decision Tree: 0.794\n",
      "\n",
      "Run 3:\n",
      "Custom Decision Tree : 0.797\n",
      "Scikit-Learn Decision Tree: 0.809\n",
      "\n",
      "Run 4:\n",
      "Custom Decision Tree : 0.788\n",
      "Scikit-Learn Decision Tree: 0.809\n",
      "\n",
      "Run 5:\n",
      "Custom Decision Tree : 0.835\n",
      "Scikit-Learn Decision Tree: 0.841\n",
      "\n",
      "Average Accuracy Results:\n",
      "Custom Decision Tree: 0.803\n",
      "Scikit-Learn Decision Tree: 0.820\n"
     ]
    },
    {
     "data": {
      "image/png": "[encoded data removed]",
      "text/plain": [
       "<Figure size 800x500 with 1 Axes>"
      ]
     },
     "metadata": {},
     "output_type": "display_data"
    }
   ],
   "source": [
    "data_car = pd.read_csv(\"car.csv\")\n",
    "data_car = data_car.drop(0)\n",
    "\n",
    "label_encoders = {}\n",
    "for col in data_car.columns:\n",
    "    le = LabelEncoder()\n",
    "    data_car[col] = le.fit_transform(data_car[col])\n",
    "    label_encoders[col] = le\n",
    "\n",
    "custom_tree_accuracies = []\n",
    "sklearn_tree_accuracies = []\n",
    "\n",
    "print(\"Car Dataset Decision Tree\")\n",
    "\n",
    "for i in range(5):\n",
    "\n",
    "    data_car = data_car.sample(frac=1).reset_index(drop=True)\n",
    "\n",
    "    X = data_car.iloc[:, :-1].values\n",
    "    Y = data_car.iloc[:, -1].values.reshape(-1, 1)\n",
    "\n",
    "    split_size = int(0.2 * len(data_car))\n",
    "\n",
    "    X_test, Y_test = X[:split_size], Y[:split_size]\n",
    "    X_train, Y_train = X[split_size:], Y[split_size:]\n",
    "\n",
    "    training_car_data = np.concatenate((X_train, Y_train), axis=1)\n",
    "\n",
    "    tree = grow_tree(training_car_data, min_samples_split=3, max_depth=4)\n",
    "    Y_pred_custom = predict_with_tree(X_test, tree)\n",
    "\n",
    "    accuracy_custom = accuracy_score(Y_test, Y_pred_custom)\n",
    "    custom_tree_accuracies.append(accuracy_custom)\n",
    "    \n",
    "    sk_tree = DecisionTreeClassifier(max_depth=4, min_samples_split=3)\n",
    "    sk_tree.fit(X_train, Y_train.ravel()) \n",
    "    Y_pred_sk = sk_tree.predict(X_test)\n",
    "\n",
    "    accuracy_sk = accuracy_score(Y_test, Y_pred_sk)\n",
    "    sklearn_tree_accuracies.append(accuracy_sk)\n",
    "\n",
    "    print(f\"\\nRun {i+1}:\")\n",
    "    print(f\"Custom Decision Tree : {accuracy_custom:.3f}\")\n",
    "    print(f\"Scikit-Learn Decision Tree: {accuracy_sk:.3f}\")\n",
    "\n",
    "print(\"\\nAverage Accuracy Results:\")\n",
    "print(f\"Custom Decision Tree: {np.mean(custom_tree_accuracies):.3f}\")\n",
    "print(f\"Scikit-Learn Decision Tree: {np.mean(sklearn_tree_accuracies):.3f}\")\n",
    "\n",
    "x_labels = [f\"Run {i+1}\" for i in range(5)]\n",
    "x = np.arange(len(x_labels))\n",
    "width = 0.2\n",
    "\n",
    "plt.figure(figsize=(8, 5))\n",
    "plt.bar(x - width/2, custom_tree_accuracies, width, label=\"Custom Decision Tree\", color=\"orange\")\n",
    "plt.bar(x + width/2, sklearn_tree_accuracies, width, label=\"Scikit-Learn Decision Tree\", color=\"lightblue\")\n",
    "\n",
    "plt.xlabel(\"Run Number\")\n",
    "plt.ylabel(\"Accuracy\")\n",
    "plt.title(\"Comparison of Custom Decision Tree vs Scikit-Learn Across Runs\")\n",
    "plt.xticks(x, x_labels)\n",
    "plt.ylim(0, 1)\n",
    "plt.legend()\n",
    "\n",
    "plt.show()\n"
   ]
  },
  {
   "cell_type": "markdown",
   "metadata": {},
   "source": [
    "### 9) Training with normalized data on the wine-dataset\n",
    "\n",
    "So far, we have trained our decision trees with \"raw\" data, i.e., we haven't done much preprocessing on the data.\n",
    "\n",
    "Here we will do minor preprocessing on the data with the help of the scikit-learn library: https://scikit-learn.org/stable/modules/preprocessing.html"
   ]
  },
  {
   "cell_type": "code",
   "execution_count": 26,
   "metadata": {},
   "outputs": [
    {
     "name": "stdout",
     "output_type": "stream",
     "text": [
      "Wine Dataset Decision Tree - Preprocessed vs Non-Preprocessed\n",
      "\n",
      "Run 1:\n",
      "Custom Decision Tree (Non-Preprocessed): 0.800\n",
      "Scikit-Learn Decision Tree (Non-Preprocessed): 0.971\n",
      "Custom Decision Tree (Preprocessed): 0.800\n",
      "Scikit-Learn Decision Tree (Preprocessed): 0.971\n",
      "\n",
      "Run 2:\n",
      "Custom Decision Tree (Non-Preprocessed): 0.943\n",
      "Scikit-Learn Decision Tree (Non-Preprocessed): 1.000\n",
      "Custom Decision Tree (Preprocessed): 0.943\n",
      "Scikit-Learn Decision Tree (Preprocessed): 1.000\n",
      "\n",
      "Run 3:\n",
      "Custom Decision Tree (Non-Preprocessed): 0.886\n",
      "Scikit-Learn Decision Tree (Non-Preprocessed): 0.914\n",
      "Custom Decision Tree (Preprocessed): 0.886\n",
      "Scikit-Learn Decision Tree (Preprocessed): 0.914\n",
      "\n",
      "Run 4:\n",
      "Custom Decision Tree (Non-Preprocessed): 0.857\n",
      "Scikit-Learn Decision Tree (Non-Preprocessed): 0.943\n",
      "Custom Decision Tree (Preprocessed): 0.857\n",
      "Scikit-Learn Decision Tree (Preprocessed): 0.943\n",
      "\n",
      "Run 5:\n",
      "Custom Decision Tree (Non-Preprocessed): 0.857\n",
      "Scikit-Learn Decision Tree (Non-Preprocessed): 0.800\n",
      "Custom Decision Tree (Preprocessed): 0.857\n",
      "Scikit-Learn Decision Tree (Preprocessed): 0.800\n",
      "\n",
      "Final Accuracy Results:\n",
      "Custom Decision Tree (Non-Preprocessed): 0.869\n",
      "Scikit-Learn Decision Tree (Non-Preprocessed): 0.926\n",
      "Custom Decision Tree (Preprocessed): 0.869\n",
      "Scikit-Learn Decision Tree (Preprocessed): 0.926\n"
     ]
    },
    {
     "data": {
      "image/png": "[encoded data removed]",
      "text/plain": [
       "<Figure size 1000x600 with 1 Axes>"
      ]
     },
     "metadata": {},
     "output_type": "display_data"
    }
   ],
   "source": [
    "from sklearn import preprocessing\n",
    "from sklearn.preprocessing import MinMaxScaler\n",
    "\n",
    "data_wine = pd.read_csv(\"wine.csv\")\n",
    "data_wine=data_wine.drop(0)\n",
    "\n",
    "custom_non_preprocessed_accuracies = []\n",
    "sklearn_non_preprocessed_accuracies = []\n",
    "custom_preprocessed_accuracies = []\n",
    "sklearn_preprocessed_accuracies = []\n",
    "\n",
    "\n",
    "scaler_X = MinMaxScaler()\n",
    "\n",
    "print(\"Wine Dataset Decision Tree - Preprocessed vs Non-Preprocessed\")\n",
    "\n",
    "for i in range(5):\n",
    "    data_wine = data_wine.sample(frac=1).reset_index(drop=True)\n",
    "    data_wine = data_wine.astype(float)\n",
    "    \n",
    "    X = data_wine.iloc[:, :-1].values\n",
    "    Y = data_wine.iloc[:, -1].values.reshape(-1, 1)\n",
    "\n",
    "    split_size = int(0.2 * len(data_wine))\n",
    "    \n",
    "    X_test, Y_test = X[:split_size], Y[:split_size]\n",
    "    X_train, Y_train = X[split_size:], Y[split_size:]\n",
    "\n",
    "    training_wine_data=np.concatenate((X_train, Y_train), axis=1)\n",
    "    \n",
    "    tree = grow_tree(training_wine_data, min_samples_split=3, max_depth=4)\n",
    "    Y_pred_custom = predict_with_tree(X_test, tree)\n",
    "    \n",
    "    accuracy_custom = accuracy_score(Y_test, Y_pred_custom)\n",
    "    custom_non_preprocessed_accuracies.append(accuracy_custom)\n",
    "\n",
    "    sk_tree = DecisionTreeClassifier(max_depth=4, min_samples_split=3)\n",
    "    sk_tree.fit(X_train, Y_train)\n",
    "    accuracy_sk = accuracy_score(Y_test, sk_tree.predict(X_test))\n",
    "    sklearn_non_preprocessed_accuracies.append(accuracy_sk)\n",
    "    #Scaling\n",
    "    X_train_scaled = scaler_X.fit_transform(X_train)\n",
    "    X_test_scaled = scaler_X.transform(X_test)\n",
    "\n",
    "    training_scale_wine_data=np.concatenate((X_train_scaled, Y_train), axis=1)\n",
    "\n",
    "    tree_scaled = grow_tree(training_scale_wine_data, min_samples_split=3, max_depth=4)\n",
    "    Y_pred_custom_scaled = predict_with_tree(X_test_scaled, tree_scaled)\n",
    "    accuracy_custom_scaled = accuracy_score(Y_test, Y_pred_custom_scaled)   \n",
    "    custom_preprocessed_accuracies.append(accuracy_custom_scaled)\n",
    "\n",
    "    sk_tree_scaled = DecisionTreeClassifier(max_depth=4, min_samples_split=3)\n",
    "    sk_tree_scaled.fit(X_train_scaled, Y_train)\n",
    "    accuracy_sk_scaled = accuracy_score(Y_test, sk_tree_scaled.predict(X_test_scaled))\n",
    "    sklearn_preprocessed_accuracies.append(accuracy_sk_scaled)\n",
    "\n",
    "    print(f\"\\nRun {i+1}:\")\n",
    "    print(f\"Custom Decision Tree (Non-Preprocessed): {accuracy_custom:.3f}\")\n",
    "    print(f\"Scikit-Learn Decision Tree (Non-Preprocessed): {accuracy_sk:.3f}\")\n",
    "    print(f\"Custom Decision Tree (Preprocessed): {accuracy_custom_scaled:.3f}\")\n",
    "    print(f\"Scikit-Learn Decision Tree (Preprocessed): {accuracy_sk_scaled:.3f}\")\n",
    "\n",
    "print(\"\\nFinal Accuracy Results:\")\n",
    "print(f\"Custom Decision Tree (Non-Preprocessed): {np.mean(custom_non_preprocessed_accuracies):.3f}\")\n",
    "print(f\"Scikit-Learn Decision Tree (Non-Preprocessed): {np.mean(sklearn_non_preprocessed_accuracies):.3f}\")\n",
    "print(f\"Custom Decision Tree (Preprocessed): {np.mean(custom_preprocessed_accuracies):.3f}\")\n",
    "print(f\"Scikit-Learn Decision Tree (Preprocessed): {np.mean(sklearn_preprocessed_accuracies):.3f}\")\n",
    "\n",
    "\n",
    "x_labels = [f\"Run {i+1}\" for i in range(5)]\n",
    "x = np.arange(len(x_labels))\n",
    "width = 0.2\n",
    "\n",
    "plt.figure(figsize=(10, 6))\n",
    "\n",
    "plt.bar(x - 1.5 * width, custom_non_preprocessed_accuracies, width, label=\"Custom-Non\", color=\"lightblue\")\n",
    "plt.bar(x - 0.5 * width, sklearn_non_preprocessed_accuracies, width, label=\"Scikit-Non\", color=\"lightgreen\")\n",
    "plt.bar(x + 0.5 * width, custom_preprocessed_accuracies, width, label=\"Custom-Pre\", color=\"orange\")\n",
    "plt.bar(x + 1.5 * width, sklearn_preprocessed_accuracies, width, label=\"Scikit-Pre\", color=\"pink\")\n",
    "\n",
    "plt.xlabel(\"Run Number\")\n",
    "plt.ylabel(\"Accuracy\")\n",
    "plt.title(\"Comparison of Decision Tree Models: Preprocessed vs Non-Preprocessed\")\n",
    "plt.xticks(x, x_labels)\n",
    "plt.ylim(0, 1)\n",
    "plt.legend()\n",
    "plt.show()"
   ]
  },
  {
   "cell_type": "markdown",
   "metadata": {},
   "source": [
    "# Questions for examination:\n",
    "\n",
    "In addition to completing the assignment with all its tasks, you should also prepare to answer the following questions:\n",
    "\n",
    "1) Why is growing the tree indefinitely such a bad idea? The performance would increase would it not?\n",
    "\n",
    "2) Beside preventing the tree from growing to large, what is the purpose of 'stopping criterias'?\n",
    "\n",
    "3) What is the difference between **Information Entropy** and **Gini Impurity**?\n",
    "\n",
    "4) What are some pros about using decision trees?\n",
    "\n",
    "5) Did preprocessing the data help with performance when using decision trees?"
   ]
  },
  {
   "cell_type": "markdown",
   "metadata": {},
   "source": [
    "# Finished!\n",
    "\n",
    "Was part of the setup incorrect? Did you spot any inconsistencies in the assignment? Could something improve?\n",
    "\n",
    "If so, please write them and send via email and send it to:\n",
    "\n",
    "* marcus.gullstrand@ju.se\n",
    "\n",
    "Thank you!"
   ]
  }
 ],
 "metadata": {
  "kernelspec": {
   "display_name": "ml",
   "language": "python",
   "name": "ml"
  },
  "language_info": {
   "codemirror_mode": {
    "name": "ipython",
    "version": 3
   },
   "file_extension": ".py",
   "mimetype": "text/x-python",
   "name": "python",
   "nbconvert_exporter": "python",
   "pygments_lexer": "ipython3",
   "version": "3.11.7"
  }
 },
 "nbformat": 4,
 "nbformat_minor": 4
}
